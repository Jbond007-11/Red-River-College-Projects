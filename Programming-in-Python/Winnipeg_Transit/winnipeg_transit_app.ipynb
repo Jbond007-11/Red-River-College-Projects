{
 "cells": [
  {
   "cell_type": "code",
   "execution_count": 1,
   "id": "b1dd56bd",
   "metadata": {},
   "outputs": [],
   "source": [
    "# Imports\n",
    "from requests import get\n",
    "from dateutil.parser import parse # converting timestamp strings\n",
    "from colorama import just_fix_windows_console, Fore, Style #color-coding output\n",
    "\n",
    "# This line is specific to colorama to make it work on Window  https://pypi.org/project/colorama/\n",
    "just_fix_windows_console()"
   ]
  },
  {
   "cell_type": "markdown",
   "id": "5c897d8d",
   "metadata": {},
   "source": [
    "**Api and Configs**"
   ]
  },
  {
   "cell_type": "code",
   "execution_count": null,
   "id": "79f3d75b",
   "metadata": {},
   "outputs": [],
   "source": [
    "# API\n",
    "API_KEY = \"\"\n",
    "\n",
    "# GPS coords\n",
    "lon = -97.138\n",
    "lat = 49.895\n",
    "\n",
    "# radius in meters to search around GPS coordinates\n",
    "distance = 100"
   ]
  },
  {
   "cell_type": "code",
   "execution_count": 3,
   "id": "5170c086",
   "metadata": {},
   "outputs": [
    {
     "name": "stdout",
     "output_type": "stream",
     "text": [
      "\n",
      " API response  dictionary:\n",
      "{'stops': [{'key': 10627, 'name': 'Northbound Main at Portage and Main Junction', 'number': 10627, 'direction': 'Northbound', 'side': 'Farside', 'street': {'key': 2265, 'name': 'Main Street', 'type': 'Street'}, 'cross-street': {'key': 2871, 'name': 'Pioneer Avenue', 'type': 'Avenue'}, 'centre': {'utm': {'zone': '14U', 'x': 633738, 'y': 5528609}, 'geographic': {'latitude': '49.89491', 'longitude': '-97.1379'}}, 'distances': {'direct': '12.28'}}, {'key': 10761, 'name': 'Westbound Pioneer at Portage and Main Junction', 'number': 10761, 'direction': 'Westbound', 'side': 'Nearside', 'street': {'key': 2871, 'name': 'Pioneer Avenue', 'type': 'Avenue'}, 'cross-street': {'key': 2265, 'name': 'Main Street', 'type': 'Street'}, 'centre': {'utm': {'zone': '14U', 'x': 633761, 'y': 5528566}, 'geographic': {'latitude': '49.89452', 'longitude': '-97.13759'}}, 'distances': {'direct': '60.92'}}, {'key': 10763, 'name': 'Eastbound Portage at Portage and Main Junction', 'number': 10763, 'direction': 'Eastbound', 'side': 'Farside', 'street': {'key': 2904, 'name': 'Portage Avenue', 'type': 'Avenue', 'leg': 'East'}, 'cross-street': {'key': 2265, 'name': 'Main Street', 'type': 'Street'}, 'centre': {'utm': {'zone': '14U', 'x': 633792, 'y': 5528634}, 'geographic': {'latitude': '49.89512', 'longitude': '-97.13714'}}, 'distances': {'direct': '63.34'}}], 'query-time': '2025-08-28T12:24:00'}\n"
     ]
    }
   ],
   "source": [
    "# url to request stops\n",
    "url_stops = f\"https://api.winnipegtransit.com/v3/stops.json?lon={lon}&lat={lat}&distance={distance}&api-key={API_KEY}\"\n",
    "\n",
    "# request bus stops nearby\n",
    "resp_stops = get(url_stops).json()\n",
    "\n",
    "print(\"\\n API response  dictionary:\")\n",
    "print(resp_stops)\n"
   ]
  },
  {
   "cell_type": "markdown",
   "id": "5a9199e0",
   "metadata": {},
   "source": [
    "**Download the json for better understanding of data structure**"
   ]
  },
  {
   "cell_type": "code",
   "execution_count": 4,
   "id": "cb5120f9",
   "metadata": {},
   "outputs": [],
   "source": [
    "import json\n",
    "with open('stops_data.json', 'w') as f:\n",
    "    json.dump(resp_stops, f, indent=4)"
   ]
  },
  {
   "cell_type": "code",
   "execution_count": 38,
   "id": "e14e5a7c",
   "metadata": {},
   "outputs": [
    {
     "name": "stdout",
     "output_type": "stream",
     "text": [
      "{10627} {'Northbound Main at Portage and Main Junction'}\n",
      "{10761} {'Westbound Pioneer at Portage and Main Junction'}\n",
      "{10763} {'Eastbound Portage at Portage and Main Junction'}\n"
     ]
    }
   ],
   "source": [
    "# no enumerate, raw values\n",
    "stops_list = resp_stops['stops']\n",
    "for stop in stops_list:\n",
    "    stop_key = stop['key']\n",
    "    stop_name = stop['name']\n",
    "    print({stop_key}, {stop_name})"
   ]
  },
  {
   "cell_type": "markdown",
   "id": "6ce4e3aa",
   "metadata": {},
   "source": [
    "**The enumerate function pairs a number with each item, and the loop splits that pair into the variables i and stop**"
   ]
  },
  {
   "cell_type": "code",
   "execution_count": 6,
   "id": "d960d866",
   "metadata": {},
   "outputs": [
    {
     "name": "stdout",
     "output_type": "stream",
     "text": [
      "1. Northbound Main at Portage and Main Junction (#10627)\n",
      "2. Westbound Pioneer at Portage and Main Junction (#10761)\n",
      "3. Eastbound Portage at Portage and Main Junction (#10763)\n"
     ]
    }
   ],
   "source": [
    "stops_list = resp_stops['stops']\n",
    "for i, stop in enumerate(stops_list):\n",
    "    stop_key = stop['key']\n",
    "    stop_name = stop['name']\n",
    "    print(f\"{i+1}. {stop_name} (#{stop_key})\")"
   ]
  },
  {
   "cell_type": "markdown",
   "id": "1586f3a3",
   "metadata": {},
   "source": [
    "**since python indexing starts at 0, using the choice = int(\"0\") - 1, when user input 3 it will return 2, user input 0, will return last value aka 3**"
   ]
  },
  {
   "cell_type": "code",
   "execution_count": 40,
   "id": "a7877548",
   "metadata": {},
   "outputs": [
    {
     "name": "stdout",
     "output_type": "stream",
     "text": [
      "\n",
      "Bus times for: Eastbound Portage at Portage and Main Junction (#10763)\n"
     ]
    }
   ],
   "source": [
    "#User input\n",
    "choice = int(input(\"\\nPick a stop number: \")) -1\n",
    "selected_stop = stops_list[choice]\n",
    "stop_key = selected_stop['key']\n",
    "print(f\"\\nBus times for: {selected_stop['name']} (#{stop_key})\")"
   ]
  },
  {
   "cell_type": "code",
   "execution_count": 41,
   "id": "34e88abf",
   "metadata": {},
   "outputs": [],
   "source": [
    "url_schedule = f\"https://api.winnipegtransit.com/v3/stops/{stop_key}/schedule.json?api-key={API_KEY}\"\n",
    "schedule_response = get(url_schedule)\n",
    "schedule_data = schedule_response.json()"
   ]
  },
  {
   "cell_type": "code",
   "execution_count": 34,
   "id": "cdee6dae",
   "metadata": {},
   "outputs": [
    {
     "name": "stdout",
     "output_type": "stream",
     "text": [
      "{'stop-schedule': {'stop': {'key': 10627, 'name': 'Northbound Main at Portage and Main Junction', 'number': 10627, 'direction': 'Northbound', 'side': 'Farside', 'street': {'key': 2265, 'name': 'Main Street', 'type': 'Street'}, 'cross-street': {'key': 2871, 'name': 'Pioneer Avenue', 'type': 'Avenue'}, 'centre': {'utm': {'zone': '14U', 'x': 633738, 'y': 5528609}, 'geographic': {'latitude': '49.89491', 'longitude': '-97.1379'}}}, 'route-schedules': [{'route': {'key': 'FX3', 'number': 'FX3', 'name': 'Route FX3 Regent - Grant', 'customer-type': 'regular', 'coverage': 'regular', 'badge-label': 'FX3', 'badge-style': {'class-names': {'class-name': ['badge-label', 'FX3']}, 'background-color': '#f27ea6', 'border-color': '#f27ea6', 'color': '#ffffff'}}, 'scheduled-stops': [{'key': '30793816-35', 'cancelled': 'false', 'times': {'arrival': {'scheduled': '2025-08-28T13:39:00', 'estimated': '2025-08-28T13:38:08'}, 'departure': {'scheduled': '2025-08-28T13:39:00', 'estimated': '2025-08-28T13:38:08'}}, 'variant': {'key': 'FX3-0-R', 'name': 'Regent - Grant to Redonda & Pandora'}, 'bus': {'key': 881, 'bike-rack': 'false', 'wifi': 'false'}}, {'key': '30793846-35', 'cancelled': 'false', 'times': {'arrival': {'scheduled': '2025-08-28T13:50:00', 'estimated': '2025-08-28T13:50:00'}, 'departure': {'scheduled': '2025-08-28T13:50:00', 'estimated': '2025-08-28T13:50:00'}}, 'variant': {'key': 'FX3-0-R', 'name': 'Regent - Grant to Redonda & Pandora'}, 'bus': {'key': 477, 'bike-rack': 'true', 'wifi': 'false'}}, {'key': '30793847-35', 'cancelled': 'false', 'times': {'arrival': {'scheduled': '2025-08-28T14:01:00', 'estimated': '2025-08-28T14:01:00'}, 'departure': {'scheduled': '2025-08-28T14:01:00', 'estimated': '2025-08-28T14:01:00'}}, 'variant': {'key': 'FX3-0-R', 'name': 'Regent - Grant to Redonda & Pandora'}, 'bus': {'key': 396, 'bike-rack': 'true', 'wifi': 'false'}}, {'key': '30793848-35', 'cancelled': 'false', 'times': {'arrival': {'scheduled': '2025-08-28T14:12:00', 'estimated': '2025-08-28T14:12:00'}, 'departure': {'scheduled': '2025-08-28T14:12:00', 'estimated': '2025-08-28T14:12:00'}}, 'variant': {'key': 'FX3-0-R', 'name': 'Regent - Grant to Redonda & Pandora'}, 'bus': {'key': 601, 'bike-rack': 'false', 'wifi': 'false'}}, {'key': '30793849-35', 'cancelled': 'false', 'times': {'arrival': {'scheduled': '2025-08-28T14:23:00', 'estimated': '2025-08-28T14:23:00'}, 'departure': {'scheduled': '2025-08-28T14:23:00', 'estimated': '2025-08-28T14:23:00'}}, 'variant': {'key': 'FX3-0-R', 'name': 'Regent - Grant to Redonda & Pandora'}, 'bus': {'key': 979, 'bike-rack': 'true', 'wifi': 'false'}}, {'key': '30793850-35', 'cancelled': 'false', 'times': {'arrival': {'scheduled': '2025-08-28T14:35:00', 'estimated': '2025-08-28T14:35:00'}, 'departure': {'scheduled': '2025-08-28T14:35:00', 'estimated': '2025-08-28T14:35:00'}}, 'variant': {'key': 'FX3-0-R', 'name': 'Regent - Grant to Redonda & Pandora'}, 'bus': {'key': 408, 'bike-rack': 'true', 'wifi': 'false'}}, {'key': '30793851-35', 'cancelled': 'false', 'times': {'arrival': {'scheduled': '2025-08-28T14:47:00', 'estimated': '2025-08-28T14:47:00'}, 'departure': {'scheduled': '2025-08-28T14:47:00', 'estimated': '2025-08-28T14:47:00'}}, 'variant': {'key': 'FX3-0-R', 'name': 'Regent - Grant to Redonda & Pandora'}, 'bus': {'key': 359, 'bike-rack': 'false', 'wifi': 'false'}}, {'key': '30793852-35', 'cancelled': 'false', 'times': {'arrival': {'scheduled': '2025-08-28T14:59:00', 'estimated': '2025-08-28T14:59:00'}, 'departure': {'scheduled': '2025-08-28T14:59:00', 'estimated': '2025-08-28T14:59:00'}}, 'variant': {'key': 'FX3-0-R', 'name': 'Regent - Grant to Redonda & Pandora'}, 'bus': {'key': 333, 'bike-rack': 'false', 'wifi': 'false'}}, {'key': '30793853-35', 'cancelled': 'false', 'times': {'arrival': {'scheduled': '2025-08-28T15:12:00', 'estimated': '2025-08-28T15:12:00'}, 'departure': {'scheduled': '2025-08-28T15:12:00', 'estimated': '2025-08-28T15:12:00'}}, 'variant': {'key': 'FX3-0-R', 'name': 'Regent - Grant to Redonda & Pandora'}, 'bus': {'key': 151, 'bike-rack': 'true', 'wifi': 'false'}}, {'key': '30793963-4', 'cancelled': 'false', 'times': {'arrival': {'scheduled': '2025-08-28T15:18:00', 'estimated': '2025-08-28T15:18:00'}, 'departure': {'scheduled': '2025-08-28T15:18:00', 'estimated': '2025-08-28T15:18:00'}}, 'variant': {'key': 'FX3-0-R', 'name': 'Regent - Grant to Redonda & Pandora'}, 'bus': {'key': 102, 'bike-rack': 'false', 'wifi': 'false'}}, {'key': '30793854-35', 'cancelled': 'false', 'times': {'arrival': {'scheduled': '2025-08-28T15:24:00', 'estimated': '2025-08-28T15:24:00'}, 'departure': {'scheduled': '2025-08-28T15:24:00', 'estimated': '2025-08-28T15:24:00'}}, 'variant': {'key': 'FX3-0-R', 'name': 'Regent - Grant to Redonda & Pandora'}, 'bus': {'key': 352, 'bike-rack': 'false', 'wifi': 'false'}}, {'key': '30794004-35', 'cancelled': 'false', 'times': {'arrival': {'scheduled': '2025-08-28T15:30:00', 'estimated': '2025-08-28T15:30:00'}, 'departure': {'scheduled': '2025-08-28T15:30:00', 'estimated': '2025-08-28T15:30:00'}}, 'variant': {'key': 'FX3-0-R', 'name': 'Regent - Grant to Redonda & Pandora'}, 'bus': {'key': 963, 'bike-rack': 'true', 'wifi': 'false'}}]}, {'route': {'key': 'FX2', 'number': 'FX2', 'name': \"Route FX2 Main - St. Mary's\", 'customer-type': 'regular', 'coverage': 'regular', 'badge-label': 'FX2', 'badge-style': {'class-names': {'class-name': ['badge-label', 'FX2']}, 'background-color': '#f37043', 'border-color': '#f37043', 'color': '#ffffff'}}, 'scheduled-stops': [{'key': '30794080-22', 'cancelled': 'false', 'times': {'arrival': {'scheduled': '2025-08-28T13:32:00', 'estimated': '2025-08-28T13:34:58'}, 'departure': {'scheduled': '2025-08-28T13:32:00', 'estimated': '2025-08-28T13:34:58'}}, 'variant': {'key': 'FX2-0-G', 'name': 'Main - St. Marys to Garden City Centre'}, 'bus': {'key': 977, 'bike-rack': 'true', 'wifi': 'false'}}, {'key': '30794081-22', 'cancelled': 'false', 'times': {'arrival': {'scheduled': '2025-08-28T13:44:00', 'estimated': '2025-08-28T13:45:30'}, 'departure': {'scheduled': '2025-08-28T13:44:00', 'estimated': '2025-08-28T13:45:30'}}, 'variant': {'key': 'FX2-0-G', 'name': 'Main - St. Marys to Garden City Centre'}, 'bus': {'key': 615, 'bike-rack': 'false', 'wifi': 'false'}}, {'key': '30794082-22', 'cancelled': 'false', 'times': {'arrival': {'scheduled': '2025-08-28T13:56:00', 'estimated': '2025-08-28T13:56:00'}, 'departure': {'scheduled': '2025-08-28T13:56:00', 'estimated': '2025-08-28T13:56:00'}}, 'variant': {'key': 'FX2-0-G', 'name': 'Main - St. Marys to Garden City Centre'}, 'bus': {'key': 323, 'bike-rack': 'false', 'wifi': 'false'}}, {'key': '30794146-22', 'cancelled': 'false', 'times': {'arrival': {'scheduled': '2025-08-28T14:08:00', 'estimated': '2025-08-28T14:08:00'}, 'departure': {'scheduled': '2025-08-28T14:08:00', 'estimated': '2025-08-28T14:08:00'}}, 'variant': {'key': 'FX2-0-G', 'name': 'Main - St. Marys to Garden City Centre'}, 'bus': {'key': 914, 'bike-rack': 'true', 'wifi': 'false'}}, {'key': '30794085-22', 'cancelled': 'false', 'times': {'arrival': {'scheduled': '2025-08-28T14:20:00', 'estimated': '2025-08-28T14:20:00'}, 'departure': {'scheduled': '2025-08-28T14:20:00', 'estimated': '2025-08-28T14:20:00'}}, 'variant': {'key': 'FX2-0-G', 'name': 'Main - St. Marys to Garden City Centre'}, 'bus': {'key': 148, 'bike-rack': 'true', 'wifi': 'false'}}, {'key': '30794157-22', 'cancelled': 'false', 'times': {'arrival': {'scheduled': '2025-08-28T14:33:00', 'estimated': '2025-08-28T14:33:00'}, 'departure': {'scheduled': '2025-08-28T14:33:00', 'estimated': '2025-08-28T14:33:00'}}, 'variant': {'key': 'FX2-0-G', 'name': 'Main - St. Marys to Garden City Centre'}, 'bus': {'key': 452, 'bike-rack': 'true', 'wifi': 'false'}}, {'key': '30794086-22', 'cancelled': 'false', 'times': {'arrival': {'scheduled': '2025-08-28T14:46:00', 'estimated': '2025-08-28T14:46:00'}, 'departure': {'scheduled': '2025-08-28T14:46:00', 'estimated': '2025-08-28T14:46:00'}}, 'variant': {'key': 'FX2-0-G', 'name': 'Main - St. Marys to Garden City Centre'}, 'bus': {'key': 479, 'bike-rack': 'true', 'wifi': 'false'}}, {'key': '30794087-22', 'cancelled': 'false', 'times': {'arrival': {'scheduled': '2025-08-28T14:59:00', 'estimated': '2025-08-28T14:59:00'}, 'departure': {'scheduled': '2025-08-28T14:59:00', 'estimated': '2025-08-28T14:59:00'}}, 'variant': {'key': 'FX2-0-G', 'name': 'Main - St. Marys to Garden City Centre'}, 'bus': {'key': 109, 'bike-rack': 'false', 'wifi': 'false'}}, {'key': '30794156-22', 'cancelled': 'false', 'times': {'arrival': {'scheduled': '2025-08-28T15:12:00', 'estimated': '2025-08-28T15:12:00'}, 'departure': {'scheduled': '2025-08-28T15:12:00', 'estimated': '2025-08-28T15:12:00'}}, 'variant': {'key': 'FX2-0-G', 'name': 'Main - St. Marys to Garden City Centre'}, 'bus': {'key': 845, 'bike-rack': 'false', 'wifi': 'false'}}, {'key': '30794238-4', 'cancelled': 'false', 'times': {'arrival': {'scheduled': '2025-08-28T15:19:00', 'estimated': '2025-08-28T15:19:00'}, 'departure': {'scheduled': '2025-08-28T15:19:00', 'estimated': '2025-08-28T15:19:00'}}, 'variant': {'key': 'FX2-0-G', 'name': 'Main - St. Marys to Garden City Centre'}}, {'key': '30794089-22', 'cancelled': 'false', 'times': {'arrival': {'scheduled': '2025-08-28T15:25:00', 'estimated': '2025-08-28T15:25:00'}, 'departure': {'scheduled': '2025-08-28T15:25:00', 'estimated': '2025-08-28T15:25:00'}}, 'variant': {'key': 'FX2-0-G', 'name': 'Main - St. Marys to Garden City Centre'}, 'bus': {'key': 977, 'bike-rack': 'true', 'wifi': 'false'}}, {'key': '30794212-22', 'cancelled': 'false', 'times': {'arrival': {'scheduled': '2025-08-28T15:31:00', 'estimated': '2025-08-28T15:31:00'}, 'departure': {'scheduled': '2025-08-28T15:31:00', 'estimated': '2025-08-28T15:31:00'}}, 'variant': {'key': 'FX2-0-G', 'name': 'Main - St. Marys to Garden City Centre'}}]}]}, 'query-time': '2025-08-28T13:31:04'}\n"
     ]
    }
   ],
   "source": [
    "print(schedule_data)\n",
    "with open('schedule_data.json', 'w') as f:\n",
    "    json.dump(schedule_data, f, indent=4)"
   ]
  },
  {
   "cell_type": "code",
   "execution_count": 42,
   "id": "cb5538ee",
   "metadata": {},
   "outputs": [
    {
     "name": "stdout",
     "output_type": "stream",
     "text": [
      "Route: Route F7 St. Anne's - Provencher\n",
      "Route: Route FX4 Gateway - Portage\n"
     ]
    }
   ],
   "source": [
    "# Extract the list of all route schedules per user input\n",
    "route_schedules = schedule_data['stop-schedule']['route-schedules']\n",
    "\n",
    "# Loop through each route filtering by the stop-scheudle\n",
    "for route in route_schedules:\n",
    "    route_name = route['route']['name']\n",
    "    print(f\"Route: {route_name}\")"
   ]
  },
  {
   "cell_type": "code",
   "execution_count": 43,
   "id": "4d4081eb",
   "metadata": {},
   "outputs": [
    {
     "name": "stdout",
     "output_type": "stream",
     "text": [
      "The last scheduled time was: 2025-08-28T13:53:42\n",
      "The last estimated time was: 2025-08-28T14:00:29\n",
      "The last scheduled time was: 2025-08-28T14:05:42\n",
      "The last estimated time was: 2025-08-28T14:05:42\n",
      "The last scheduled time was: 2025-08-28T14:17:42\n",
      "The last estimated time was: 2025-08-28T14:17:42\n",
      "The last scheduled time was: 2025-08-28T14:29:42\n",
      "The last estimated time was: 2025-08-28T14:29:42\n",
      "The last scheduled time was: 2025-08-28T14:41:42\n",
      "The last estimated time was: 2025-08-28T14:41:42\n",
      "The last scheduled time was: 2025-08-28T14:53:46\n",
      "The last estimated time was: 2025-08-28T14:53:46\n",
      "The last scheduled time was: 2025-08-28T15:06:46\n",
      "The last estimated time was: 2025-08-28T15:06:46\n",
      "The last scheduled time was: 2025-08-28T15:13:46\n",
      "The last estimated time was: 2025-08-28T15:13:46\n",
      "The last scheduled time was: 2025-08-28T15:19:46\n",
      "The last estimated time was: 2025-08-28T15:19:46\n",
      "The last scheduled time was: 2025-08-28T15:25:46\n",
      "The last estimated time was: 2025-08-28T15:25:46\n",
      "The last scheduled time was: 2025-08-28T15:32:46\n",
      "The last estimated time was: 2025-08-28T15:32:46\n",
      "The last scheduled time was: 2025-08-28T15:38:46\n",
      "The last estimated time was: 2025-08-28T15:38:46\n",
      "The last scheduled time was: 2025-08-28T15:45:46\n",
      "The last estimated time was: 2025-08-28T15:45:46\n"
     ]
    }
   ],
   "source": [
    "# Loop through each scheduled/esitmated stop for that route\n",
    "for scheduled_stop in route['scheduled-stops']:\n",
    "    scheduled_time_str = scheduled_stop['times']['arrival']['scheduled']\n",
    "    estimated_time_str = scheduled_stop['times']['arrival']['estimated']\n",
    "    print(f\"The last scheduled time was: {scheduled_time_str}\")\n",
    "    print(f\"The last estimated time was: {estimated_time_str}\")"
   ]
  },
  {
   "cell_type": "code",
   "execution_count": 44,
   "id": "b9878d9c",
   "metadata": {},
   "outputs": [
    {
     "name": "stdout",
     "output_type": "stream",
     "text": [
      "\u001b[31mScheduled: 13:53:42 | Estimated: 14:00:29 : Status: LATE\u001b[0m\n",
      "\u001b[32mScheduled: 14:05:42 | Estimated: 14:05:42 : Status: ON TIME\u001b[0m\n",
      "\u001b[32mScheduled: 14:17:42 | Estimated: 14:17:42 : Status: ON TIME\u001b[0m\n",
      "\u001b[32mScheduled: 14:29:42 | Estimated: 14:29:42 : Status: ON TIME\u001b[0m\n",
      "\u001b[32mScheduled: 14:41:42 | Estimated: 14:41:42 : Status: ON TIME\u001b[0m\n",
      "\u001b[32mScheduled: 14:53:46 | Estimated: 14:53:46 : Status: ON TIME\u001b[0m\n",
      "\u001b[32mScheduled: 15:06:46 | Estimated: 15:06:46 : Status: ON TIME\u001b[0m\n",
      "\u001b[32mScheduled: 15:13:46 | Estimated: 15:13:46 : Status: ON TIME\u001b[0m\n",
      "\u001b[32mScheduled: 15:19:46 | Estimated: 15:19:46 : Status: ON TIME\u001b[0m\n",
      "\u001b[32mScheduled: 15:25:46 | Estimated: 15:25:46 : Status: ON TIME\u001b[0m\n",
      "\u001b[32mScheduled: 15:32:46 | Estimated: 15:32:46 : Status: ON TIME\u001b[0m\n",
      "\u001b[32mScheduled: 15:38:46 | Estimated: 15:38:46 : Status: ON TIME\u001b[0m\n",
      "\u001b[32mScheduled: 15:45:46 | Estimated: 15:45:46 : Status: ON TIME\u001b[0m\n"
     ]
    }
   ],
   "source": [
    "for scheduled_stop in route['scheduled-stops']:\n",
    "    scheduled_time_str = scheduled_stop['times']['arrival']['scheduled']\n",
    "    estimated_time_str = scheduled_stop['times']['arrival']['estimated']\n",
    "    \n",
    "    # Convert strings to datetime objects for comparison\n",
    "    scheduled_dt = parse(scheduled_time_str)\n",
    "    estimated_dt = parse(estimated_time_str)\n",
    "\n",
    "    # Compare the datetime objects\n",
    "    if estimated_dt < scheduled_dt:\n",
    "        status = \"EARLY\"\n",
    "        color = Fore.BLUE\n",
    "    elif estimated_dt > scheduled_dt:\n",
    "        status = \"LATE\"\n",
    "        color = Fore.RED\n",
    "    else:\n",
    "        status = \"ON TIME\"\n",
    "        color = Fore.GREEN\n",
    "    print(\n",
    "            f\"{color}\"\n",
    "            f\"Scheduled: {scheduled_dt.strftime('%H:%M:%S')} | \"\n",
    "            f\"Estimated: {estimated_dt.strftime('%H:%M:%S')} : \"\n",
    "            f\"Status: {status}\"\n",
    "            f\"{Style.RESET_ALL}\"\n",
    "        )"
   ]
  },
  {
   "cell_type": "code",
   "execution_count": 46,
   "id": "cd0b2bc6",
   "metadata": {},
   "outputs": [
    {
     "name": "stdout",
     "output_type": "stream",
     "text": [
      "Route: Route F7 St. Anne's - Provencher\n",
      "\u001b[31mScheduled: 13:38:44 | Estimated: 14:01:52 : Status: LATE\u001b[0m\n",
      "\u001b[31mScheduled: 13:52:44 | Estimated: 13:53:30 : Status: LATE\u001b[0m\n",
      "\u001b[31mScheduled: 14:07:44 | Estimated: 14:10:23 : Status: LATE\u001b[0m\n",
      "\u001b[32mScheduled: 14:22:44 | Estimated: 14:22:44 : Status: ON TIME\u001b[0m\n",
      "\u001b[32mScheduled: 14:37:44 | Estimated: 14:37:44 : Status: ON TIME\u001b[0m\n",
      "\u001b[32mScheduled: 14:52:44 | Estimated: 14:52:44 : Status: ON TIME\u001b[0m\n",
      "\u001b[32mScheduled: 15:06:44 | Estimated: 15:06:44 : Status: ON TIME\u001b[0m\n",
      "\u001b[32mScheduled: 15:18:44 | Estimated: 15:18:44 : Status: ON TIME\u001b[0m\n",
      "\u001b[32mScheduled: 15:29:44 | Estimated: 15:29:44 : Status: ON TIME\u001b[0m\n",
      "\u001b[32mScheduled: 15:39:44 | Estimated: 15:39:44 : Status: ON TIME\u001b[0m\n",
      "\u001b[32mScheduled: 15:49:44 | Estimated: 15:49:44 : Status: ON TIME\u001b[0m\n",
      "\n",
      "Route: Route FX4 Gateway - Portage\n",
      "\u001b[31mScheduled: 13:53:42 | Estimated: 14:00:29 : Status: LATE\u001b[0m\n",
      "\u001b[32mScheduled: 14:05:42 | Estimated: 14:05:42 : Status: ON TIME\u001b[0m\n",
      "\u001b[32mScheduled: 14:17:42 | Estimated: 14:17:42 : Status: ON TIME\u001b[0m\n",
      "\u001b[32mScheduled: 14:29:42 | Estimated: 14:29:42 : Status: ON TIME\u001b[0m\n",
      "\u001b[32mScheduled: 14:41:42 | Estimated: 14:41:42 : Status: ON TIME\u001b[0m\n",
      "\u001b[32mScheduled: 14:53:46 | Estimated: 14:53:46 : Status: ON TIME\u001b[0m\n",
      "\u001b[32mScheduled: 15:06:46 | Estimated: 15:06:46 : Status: ON TIME\u001b[0m\n",
      "\u001b[32mScheduled: 15:13:46 | Estimated: 15:13:46 : Status: ON TIME\u001b[0m\n",
      "\u001b[32mScheduled: 15:19:46 | Estimated: 15:19:46 : Status: ON TIME\u001b[0m\n",
      "\u001b[32mScheduled: 15:25:46 | Estimated: 15:25:46 : Status: ON TIME\u001b[0m\n",
      "\u001b[32mScheduled: 15:32:46 | Estimated: 15:32:46 : Status: ON TIME\u001b[0m\n",
      "\u001b[32mScheduled: 15:38:46 | Estimated: 15:38:46 : Status: ON TIME\u001b[0m\n",
      "\u001b[32mScheduled: 15:45:46 | Estimated: 15:45:46 : Status: ON TIME\u001b[0m\n",
      "\n"
     ]
    }
   ],
   "source": [
    "for route in route_schedules:\n",
    "    route_name = route['route']['name']\n",
    "    print(f\"Route: {route_name}\")\n",
    "\n",
    "    for scheduled_stop in route['scheduled-stops']:\n",
    "        scheduled_time_str = scheduled_stop['times']['arrival']['scheduled']\n",
    "        estimated_time_str = scheduled_stop['times']['arrival']['estimated']\n",
    "        \n",
    "        # Convert strings to datetime objects for comparison\n",
    "        scheduled_dt = parse(scheduled_time_str)\n",
    "        estimated_dt = parse(estimated_time_str)\n",
    "\n",
    "        # Compare the datetime objects\n",
    "        if estimated_dt < scheduled_dt:\n",
    "            status = \"EARLY\"\n",
    "            color = Fore.BLUE\n",
    "        elif estimated_dt > scheduled_dt:\n",
    "            status = \"LATE\"\n",
    "            color = Fore.RED\n",
    "        else:\n",
    "            status = \"ON TIME\"\n",
    "            color = Fore.GREEN\n",
    "        print(\n",
    "                f\"{color}\"\n",
    "                f\"Scheduled: {scheduled_dt.strftime('%H:%M:%S')} | \"\n",
    "                f\"Estimated: {estimated_dt.strftime('%H:%M:%S')} : \"\n",
    "                f\"Status: {status}\"\n",
    "                f\"{Style.RESET_ALL}\"\n",
    "            )\n",
    "    print()\n",
    "    "
   ]
  }
 ],
 "metadata": {
  "kernelspec": {
   "display_name": "com_2231_env",
   "language": "python",
   "name": "python3"
  },
  "language_info": {
   "codemirror_mode": {
    "name": "ipython",
    "version": 3
   },
   "file_extension": ".py",
   "mimetype": "text/x-python",
   "name": "python",
   "nbconvert_exporter": "python",
   "pygments_lexer": "ipython3",
   "version": "3.13.5"
  }
 },
 "nbformat": 4,
 "nbformat_minor": 5
}
